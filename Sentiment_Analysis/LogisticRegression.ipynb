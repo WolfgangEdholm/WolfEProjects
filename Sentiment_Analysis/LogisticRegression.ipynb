{
 "cells": [
  {
   "cell_type": "code",
   "execution_count": 1,
   "id": "dd80327e-107d-4609-beaf-1218c0d96eb3",
   "metadata": {},
   "outputs": [],
   "source": [
    "#%pip install nltk"
   ]
  },
  {
   "cell_type": "code",
   "execution_count": 50,
   "id": "6cd3c3b4-c1a7-4992-923e-af2ef83cc0f8",
   "metadata": {},
   "outputs": [],
   "source": [
    "import nltk                                # Python library for NLP\n",
    "from nltk.corpus import twitter_samples    # sample Twitter dataset from NLTK\n",
    "import matplotlib.pyplot as plt            \n",
    "import random    \n",
    "import numpy as np\n",
    "\n",
    "import warnings\n",
    "warnings.filterwarnings(\"ignore\")"
   ]
  },
  {
   "cell_type": "markdown",
   "id": "f1637220-63a8-4fc2-b0de-94ae122a98f1",
   "metadata": {},
   "source": [
    "# 1. Understanding the NLTK Twitter Dataset\n",
    "As can be seen, the dataset contains 5,000 positive and 5,000 negative tweets"
   ]
  },
  {
   "cell_type": "code",
   "execution_count": 61,
   "id": "52bedb50-028e-4045-b680-daef9b60a0c6",
   "metadata": {},
   "outputs": [],
   "source": [
    "nltk.download('twitter_samples')"
   ]
  },
  {
   "cell_type": "code",
   "execution_count": 4,
   "id": "125011f9-529c-43c8-847a-ebe63f355aa0",
   "metadata": {},
   "outputs": [],
   "source": [
    "all_positive_tweets = twitter_samples.strings('positive_tweets.json')\n",
    "all_negative_tweets = twitter_samples.strings('negative_tweets.json')"
   ]
  },
  {
   "cell_type": "code",
   "execution_count": 5,
   "id": "3d03819f-9e69-47bd-979c-49422536d1af",
   "metadata": {},
   "outputs": [
    {
     "name": "stdout",
     "output_type": "stream",
     "text": [
      "# positive tweets: 5000\n",
      "# negative tweets: 5000\n",
      "The type of all_positive_tweets is: <class 'list'>\n",
      "The type of each tweets is: <class 'str'>\n"
     ]
    }
   ],
   "source": [
    "print(\"# positive tweets:\", len(all_positive_tweets))\n",
    "print(\"# negative tweets:\", len(all_negative_tweets))\n",
    "print(\"The type of all_positive_tweets is:\", type(all_positive_tweets))\n",
    "print(\"The type of each tweets is:\", type(all_positive_tweets[0]))"
   ]
  },
  {
   "cell_type": "markdown",
   "id": "53adcda0-e1f1-45db-974d-1a5369af09f5",
   "metadata": {},
   "source": [
    "### Pie Chart Visualization"
   ]
  },
  {
   "cell_type": "code",
   "execution_count": 6,
   "id": "7cfdf5ec-a59f-4998-8be0-bb08b006c524",
   "metadata": {},
   "outputs": [
    {
     "data": {
      "image/png": "[encoded data removed]",
      "text/plain": [
       "<Figure size 300x300 with 1 Axes>"
      ]
     },
     "metadata": {},
     "output_type": "display_data"
    }
   ],
   "source": [
    "# Declare a figure with custom size\n",
    "fig = plt.figure(figsize=(3, 3))\n",
    "\n",
    "# labels for the two classes\n",
    "labels = 'Positives', 'Negatives'\n",
    "\n",
    "# Sizes for each sentiment\n",
    "sizes = [len(all_positive_tweets), len(all_negative_tweets)] \n",
    "\n",
    "# Declare pie chart\n",
    "plt.pie(sizes, labels=labels, autopct='%1.1f%%',\n",
    "        shadow=True, startangle=90)\n",
    "\n",
    "# Draw plot as a circle.\n",
    "plt.axis('equal')  \n",
    "\n",
    "# Display chart\n",
    "plt.show()"
   ]
  },
  {
   "cell_type": "markdown",
   "id": "2d8384d2-adb1-4671-bcf5-433778c28e60",
   "metadata": {},
   "source": [
    "## Example Tweets"
   ]
  },
  {
   "cell_type": "code",
   "execution_count": 7,
   "id": "c6287119-0e7a-4c0e-aa31-57e85965e05a",
   "metadata": {},
   "outputs": [
    {
     "name": "stdout",
     "output_type": "stream",
     "text": [
      "\u001b[92mMorning Everyone,\n",
      "\n",
      "We're open from 12pm every day until Sunday now :) \n",
      "\n",
      "Hello Weekend, come say 'how do you do?' x http://t.co/PTZfvCIUa9\n",
      "\u001b[91m@abhic4ever Terrible, just terrible. :(\n"
     ]
    }
   ],
   "source": [
    "# positive = green, negative = red\n",
    "print('\\033[92m' + all_positive_tweets[random.randint(0, 5000)])\n",
    "print('\\033[91m' + all_negative_tweets[random.randint(0, 5000)])"
   ]
  },
  {
   "cell_type": "markdown",
   "id": "04c75ce0-b972-4d26-bcd5-4fbdcb81c52b",
   "metadata": {},
   "source": [
    "# 2. Preprocessing Raw Text for Sentiment Analysis\n",
    "1. Eliminate handles and URLS\n",
    "2. Tokenize strings into words\n",
    "3. Remove stop words and punctuation\n",
    "4. Stemming: Convert every word to stem\n",
    "5. Lower case all"
   ]
  },
  {
   "cell_type": "code",
   "execution_count": 62,
   "id": "5541a58f-57f3-46af-b152-9b8bcf1a32f8",
   "metadata": {},
   "outputs": [],
   "source": [
    "# download the stopwords from NLTK\n",
    "nltk.download('stopwords')"
   ]
  },
  {
   "cell_type": "code",
   "execution_count": 9,
   "id": "f231457e-d022-438e-af2e-d31090c53665",
   "metadata": {},
   "outputs": [],
   "source": [
    "import re                                  # library for regular expression operations\n",
    "import string                              \n",
    "from nltk.corpus import stopwords          # module for stop words that come with NLTK\n",
    "from nltk.stem import PorterStemmer        # module for stemming\n",
    "from nltk.tokenize import TweetTokenizer   # module for tokenizing strings"
   ]
  },
  {
   "cell_type": "code",
   "execution_count": 10,
   "id": "eea3eb09-ffc5-4af8-ae9e-bf5a9d69fd9f",
   "metadata": {},
   "outputs": [
    {
     "name": "stdout",
     "output_type": "stream",
     "text": [
      "My beautiful sunflowers on a sunny Friday morning off :) #sunflowers #favourites #happy #Friday off… https://t.co/3tfYom0N1i\n"
     ]
    }
   ],
   "source": [
    "# Load Example Tweet\n",
    "example_tweet = all_positive_tweets[2277]\n",
    "print(example_tweet)"
   ]
  },
  {
   "cell_type": "markdown",
   "id": "cfeb2aad-eea5-4dfd-b55c-e582fd2bda63",
   "metadata": {},
   "source": [
    "### Remove hyperlinks, Twitter marks and styles"
   ]
  },
  {
   "cell_type": "code",
   "execution_count": 11,
   "id": "8cdb9f13-f331-4d0b-9765-9294d24cba81",
   "metadata": {},
   "outputs": [
    {
     "data": {
      "text/plain": [
       "'My beautiful sunflowers on a sunny Friday morning off :) sunflowers favourites happy Friday off… '"
      ]
     },
     "execution_count": 11,
     "metadata": {},
     "output_type": "execute_result"
    }
   ],
   "source": [
    "def eliminate_handles_and_links(tweet):\n",
    "    # Remove retweets\n",
    "    tweet = re.sub(r'^RT[\\s]+', '', tweet)\n",
    "    # Remove hyperlinks\n",
    "    tweet = re.sub(r'https?://[^\\s\\n\\r]+', '', tweet)\n",
    "    # Remove hashtags\n",
    "    tweet = re.sub(r'#', '', tweet)\n",
    "    return tweet\n",
    "\n",
    "example_tweet = eliminate_handles_and_links(example_tweet)\n",
    "example_tweet"
   ]
  },
  {
   "cell_type": "markdown",
   "id": "5bb91a52-1989-4a9e-8c90-3dbb08f3a2bc",
   "metadata": {},
   "source": [
    "### Tokenize Tweets"
   ]
  },
  {
   "cell_type": "code",
   "execution_count": 12,
   "id": "714fae78-6538-47d8-917f-21ee8f088b04",
   "metadata": {},
   "outputs": [
    {
     "data": {
      "text/plain": [
       "['my',\n",
       " 'beautiful',\n",
       " 'sunflowers',\n",
       " 'on',\n",
       " 'a',\n",
       " 'sunny',\n",
       " 'friday',\n",
       " 'morning',\n",
       " 'off',\n",
       " ':)',\n",
       " 'sunflowers',\n",
       " 'favourites',\n",
       " 'happy',\n",
       " 'friday',\n",
       " 'off',\n",
       " '…']"
      ]
     },
     "execution_count": 12,
     "metadata": {},
     "output_type": "execute_result"
    }
   ],
   "source": [
    "def tokenize(tweet):\n",
    "    tokenizer = TweetTokenizer(preserve_case=False, strip_handles=True, reduce_len=True)\n",
    "    tweet_tokens = tokenizer.tokenize(tweet)\n",
    "    return tweet_tokens\n",
    "\n",
    "example_tweet_tokens = tokenize(example_tweet)\n",
    "example_tweet_tokens"
   ]
  },
  {
   "cell_type": "markdown",
   "id": "4f29fde8-bfe7-48d3-8ff8-1a89876c2bf4",
   "metadata": {},
   "source": [
    "### Remove Stop Words and Punctuation"
   ]
  },
  {
   "cell_type": "code",
   "execution_count": 13,
   "id": "e3231c6e-0b9f-48a3-a0a2-f0da4cad78e6",
   "metadata": {},
   "outputs": [
    {
     "name": "stdout",
     "output_type": "stream",
     "text": [
      "Stop Words\n",
      " ['i', 'me', 'my', 'myself', 'we', 'our', 'ours', 'ourselves', 'you', \"you're\", \"you've\", \"you'll\", \"you'd\", 'your', 'yours', 'yourself', 'yourselves', 'he', 'him', 'his', 'himself', 'she', \"she's\", 'her', 'hers', 'herself', 'it', \"it's\", 'its', 'itself', 'they', 'them', 'their', 'theirs', 'themselves', 'what', 'which', 'who', 'whom', 'this', 'that', \"that'll\", 'these', 'those', 'am', 'is', 'are', 'was', 'were', 'be', 'been', 'being', 'have', 'has', 'had', 'having', 'do', 'does', 'did', 'doing', 'a', 'an', 'the', 'and', 'but', 'if', 'or', 'because', 'as', 'until', 'while', 'of', 'at', 'by', 'for', 'with', 'about', 'against', 'between', 'into', 'through', 'during', 'before', 'after', 'above', 'below', 'to', 'from', 'up', 'down', 'in', 'out', 'on', 'off', 'over', 'under', 'again', 'further', 'then', 'once', 'here', 'there', 'when', 'where', 'why', 'how', 'all', 'any', 'both', 'each', 'few', 'more', 'most', 'other', 'some', 'such', 'no', 'nor', 'not', 'only', 'own', 'same', 'so', 'than', 'too', 'very', 's', 't', 'can', 'will', 'just', 'don', \"don't\", 'should', \"should've\", 'now', 'd', 'll', 'm', 'o', 're', 've', 'y', 'ain', 'aren', \"aren't\", 'couldn', \"couldn't\", 'didn', \"didn't\", 'doesn', \"doesn't\", 'hadn', \"hadn't\", 'hasn', \"hasn't\", 'haven', \"haven't\", 'isn', \"isn't\", 'ma', 'mightn', \"mightn't\", 'mustn', \"mustn't\", 'needn', \"needn't\", 'shan', \"shan't\", 'shouldn', \"shouldn't\", 'wasn', \"wasn't\", 'weren', \"weren't\", 'won', \"won't\", 'wouldn', \"wouldn't\"]\n",
      "\n",
      "punctuation\n",
      " !\"#$%&'()*+,-./:;<=>?@[\\]^_`{|}~\n"
     ]
    }
   ],
   "source": [
    "english_stopwords = stopwords.words('english')\n",
    "print('Stop Words\\n', english_stopwords)\n",
    "\n",
    "punctuation = string.punctuation\n",
    "print('\\npunctuation\\n', punctuation)"
   ]
  },
  {
   "cell_type": "code",
   "execution_count": 14,
   "id": "717c28d4-010a-4b75-975e-4bb4289ecbea",
   "metadata": {},
   "outputs": [
    {
     "data": {
      "text/plain": [
       "['beautiful',\n",
       " 'sunflowers',\n",
       " 'sunny',\n",
       " 'friday',\n",
       " 'morning',\n",
       " ':)',\n",
       " 'sunflowers',\n",
       " 'favourites',\n",
       " 'happy',\n",
       " 'friday',\n",
       " '…']"
      ]
     },
     "execution_count": 14,
     "metadata": {},
     "output_type": "execute_result"
    }
   ],
   "source": [
    "def remove_stops_and_punctation(tweet_tokens):\n",
    "    english_stopwords = stopwords.words('english')\n",
    "\n",
    "    tokens = []\n",
    "    for token in tweet_tokens:\n",
    "        if token not in english_stopwords and token not in string.punctuation:\n",
    "            tokens.append(token)\n",
    "    return tokens\n",
    "\n",
    "example_tweet_tokens = remove_stops_and_punctation(example_tweet_tokens)\n",
    "example_tweet_tokens"
   ]
  },
  {
   "cell_type": "markdown",
   "id": "aa22c15f-1dbe-45e4-b106-a7c14cc0f7c7",
   "metadata": {},
   "source": [
    "### Stemming"
   ]
  },
  {
   "cell_type": "code",
   "execution_count": 15,
   "id": "896a749d-bcf8-4d6d-afd0-6a7e894a84f4",
   "metadata": {},
   "outputs": [
    {
     "name": "stdout",
     "output_type": "stream",
     "text": [
      "['beauti', 'sunflow', 'sunni', 'friday', 'morn', ':)', 'sunflow', 'favourit', 'happi', 'friday', '…']\n"
     ]
    }
   ],
   "source": [
    "def stem_words(tweet_tokens):\n",
    "    # Use Porter Stemmer\n",
    "    stemmer = PorterStemmer()\n",
    "    words = []\n",
    "    for word in tweet_tokens:\n",
    "        stemmed_word = stemmer.stem(word)\n",
    "        words.append(stemmed_word)\n",
    "    return words\n",
    "\n",
    "example_tweet_tokens = stem_words(example_tweet_tokens)\n",
    "\n",
    "print(example_tweet_tokens)"
   ]
  },
  {
   "cell_type": "markdown",
   "id": "5369ded1-dc6b-428f-a587-3bfd13b37d70",
   "metadata": {},
   "source": [
    "## Process Tweet Function\n",
    "We now combine all of the preprocessing functions into one function, which returns the final preprocessed tweet that we can use for sentiment analysis"
   ]
  },
  {
   "cell_type": "code",
   "execution_count": 16,
   "id": "4c3e6350-8c84-4ff3-af29-a5be4a861316",
   "metadata": {},
   "outputs": [],
   "source": [
    "# Eliminate handles and URLS\n",
    "# Tokenize strings into words\n",
    "# Remove stop words and punctuation\n",
    "# Stemming: Convert every word to stem\n",
    "# Lower case all\n",
    "def process_tweet(tweet):\n",
    "    \"\"\"Process Tweets into tokens.\n",
    "    Input:\n",
    "        tweet: a tweet\n",
    "    Output:\n",
    "        tweet_tokens: a list containing each token/word that \n",
    "        provides information from the original tweet\n",
    "    \"\"\"\n",
    "    tweet = eliminate_handles_and_links(tweet)\n",
    "    tweet_tokens = tokenize(tweet)\n",
    "    tweet_tokens = remove_stops_and_punctation(tweet_tokens)\n",
    "    tweet_tokens = stem_words(tweet_tokens)\n",
    "    return tweet_tokens"
   ]
  },
  {
   "cell_type": "code",
   "execution_count": 17,
   "id": "bfe2088d-f5f2-4a47-b805-318432e3940a",
   "metadata": {},
   "outputs": [
    {
     "name": "stdout",
     "output_type": "stream",
     "text": [
      "Original Tweet\n",
      " My beautiful sunflowers on a sunny Friday morning off :) #sunflowers #favourites #happy #Friday off… https://t.co/3tfYom0N1i\n",
      "Processed Tweet\n",
      " ['beauti', 'sunflow', 'sunni', 'friday', 'morn', ':)', 'sunflow', 'favourit', 'happi', 'friday', '…']\n"
     ]
    }
   ],
   "source": [
    "# Compare original example with preprocessed example\n",
    "example_tweet = all_positive_tweets[2277]\n",
    "processed_example_tweet = process_tweet(example_tweet)\n",
    "print(\"Original Tweet\\n\", example_tweet)\n",
    "print(\"Processed Tweet\\n\", processed_example_tweet)"
   ]
  },
  {
   "cell_type": "markdown",
   "id": "b87cb5ee-f1b8-4dbe-8d3a-fcf98d9481aa",
   "metadata": {},
   "source": [
    "# 3. Building and Visualizing Word Frequencies"
   ]
  },
  {
   "cell_type": "code",
   "execution_count": 18,
   "id": "e3fe3fdd-ceed-4412-a4fd-d1253caf6a50",
   "metadata": {},
   "outputs": [],
   "source": [
    "def build_freqs(tweets, ys):\n",
    "    \"\"\"Build frequencies.\n",
    "    Input:\n",
    "        tweets: a list of tweets\n",
    "        ys: an m x 1 array with the sentiment label of each tweet\n",
    "            0 if negative, 1 if positive\n",
    "    Output:\n",
    "        freqs: a dictionary mapping each (word, sentiment) pair to its\n",
    "        frequency\n",
    "    \"\"\"\n",
    "    yslist = np.squeeze(ys).tolist()\n",
    "    freqs = {}\n",
    "    for tweet, y in zip(tweets, yslist):\n",
    "        for word in process_tweet(tweet):\n",
    "            pair = (word, y)\n",
    "            freqs[pair] = freqs.get(pair, 0) + 1\n",
    "    return freqs"
   ]
  },
  {
   "cell_type": "code",
   "execution_count": 19,
   "id": "d7cd3282-ab71-4bec-b5a0-ebc6a88a5592",
   "metadata": {},
   "outputs": [],
   "source": [
    "tweets = all_positive_tweets + all_negative_tweets\n",
    "labels = np.append(np.ones(len(all_positive_tweets)), np.zeros(len(all_negative_tweets)))\n",
    "\n",
    "freqs = build_freqs(tweets, labels)\n",
    "#freqs"
   ]
  },
  {
   "cell_type": "code",
   "execution_count": 20,
   "id": "0ac120d3-b0d6-4655-a072-d86fae70f362",
   "metadata": {},
   "outputs": [
    {
     "name": "stdout",
     "output_type": "stream",
     "text": [
      "freqs type: <class 'dict'>\n",
      "freqs len: 13170\n"
     ]
    }
   ],
   "source": [
    "print(\"freqs type:\", type(freqs))\n",
    "print(\"freqs len:\", len(freqs))"
   ]
  },
  {
   "cell_type": "markdown",
   "id": "39b20121-2807-4a40-84aa-9fc5e4e967b2",
   "metadata": {},
   "source": [
    "### Table of Word Counts\n",
    "For a few words of choice, store in format [word, # positive, # negative]"
   ]
  },
  {
   "cell_type": "code",
   "execution_count": 21,
   "id": "223df48f-bc26-4f3f-ac68-ed2a30550344",
   "metadata": {},
   "outputs": [
    {
     "data": {
      "text/plain": [
       "[['happi', 212, 25],\n",
       " ['merri', 1, 0],\n",
       " ['nice', 99, 19],\n",
       " ['good', 238, 101],\n",
       " ['bad', 18, 73],\n",
       " ['sad', 5, 123],\n",
       " ['mad', 4, 11],\n",
       " ['best', 65, 22],\n",
       " ['pretti', 20, 15],\n",
       " ['❤', 29, 21],\n",
       " [':)', 3691, 2],\n",
       " [':(', 1, 4584],\n",
       " ['😒', 2, 3],\n",
       " ['😄', 5, 1],\n",
       " ['😍', 5, 1],\n",
       " ['♛', 0, 210],\n",
       " ['song', 22, 27],\n",
       " ['idea', 27, 10],\n",
       " ['power', 7, 6],\n",
       " ['play', 46, 48],\n",
       " ['magnific', 2, 0]]"
      ]
     },
     "execution_count": 21,
     "metadata": {},
     "output_type": "execute_result"
    }
   ],
   "source": [
    "# Word of choice\n",
    "keys = ['happi', 'merri', 'nice', 'good', 'bad', 'sad', 'mad', 'best', 'pretti',\n",
    "        '❤', ':)', ':(', '😒', '😄', '😍', '♛',\n",
    "        'song', 'idea', 'power', 'play', 'magnific']\n",
    "\n",
    "# each element has pattern: [<word>, <positive_count>, <negative_count>]\n",
    "word_counts = []\n",
    "\n",
    "# loop through selected words\n",
    "for word in keys:\n",
    "    # get positive and negative counts\n",
    "    positive = freqs.get((word, 1), 0)\n",
    "    negative = freqs.get((word, 0), 0)\n",
    "\n",
    "    word_counts.append([word, positive, negative])\n",
    "\n",
    "word_counts"
   ]
  },
  {
   "cell_type": "markdown",
   "id": "093387f1-a60d-4517-b59e-7081f97c8ed7",
   "metadata": {},
   "source": [
    "### Plotting Words by Ratio of Positive to Negative Counts\n",
    "To account for large discrepancies in counts and make the graph more balanced, we first convert the counts to a logarithmic scale.\n",
    "\n",
    "Words above the line tend to be more negative, while words below the line tend to be more positive"
   ]
  },
  {
   "cell_type": "code",
   "execution_count": 22,
   "id": "20a95038-d0eb-4a37-af0a-1c13f6be54e1",
   "metadata": {},
   "outputs": [
    {
     "data": {
      "image/png": "[encoded data removed]",
      "text/plain": [
       "<Figure size 800x800 with 1 Axes>"
      ]
     },
     "metadata": {},
     "output_type": "display_data"
    }
   ],
   "source": [
    "fig, ax = plt.subplots(figsize = (8, 8))\n",
    "\n",
    "# convert positive raw counts to logarithmic scale. we add 1 to avoid log(0)\n",
    "x = np.log([x[1] + 1 for x in word_counts])  \n",
    "\n",
    "# do the same for the negative counts\n",
    "y = np.log([x[2] + 1 for x in word_counts]) \n",
    "\n",
    "# Plot a dot for each pair of words\n",
    "ax.scatter(x, y)  \n",
    "\n",
    "# assign axis labels\n",
    "plt.xlabel(\"Log Positive count\")\n",
    "plt.ylabel(\"Log Negative count\")\n",
    "\n",
    "# Add the word as label for corresponding points\n",
    "for i in range(0, len(word_counts)):\n",
    "    word = word_counts[i][0]\n",
    "    ax.annotate(word, (x[i], y[i]), fontsize=12)\n",
    "\n",
    "ax.plot([0, 9], [0, 9], color = 'red') # Plot the red line that divides the 2 areas.\n",
    "plt.show()"
   ]
  },
  {
   "cell_type": "markdown",
   "id": "e80531f2-84ab-44ba-b687-bbb449892ec0",
   "metadata": {},
   "source": [
    "# 4. Training Model"
   ]
  },
  {
   "cell_type": "markdown",
   "id": "b273d755-5615-4e12-b0bb-65b486101990",
   "metadata": {},
   "source": [
    "### Create Test and Train Sets"
   ]
  },
  {
   "cell_type": "code",
   "execution_count": 23,
   "id": "60ec0169-6c9e-496b-9aca-89020f11a082",
   "metadata": {},
   "outputs": [],
   "source": [
    "train_pos, train_neg = all_positive_tweets[:4000], all_negative_tweets[:4000]\n",
    "test_pos, test_neg = all_positive_tweets[4000:], all_negative_tweets[4000:]\n",
    "\n",
    "train_x = train_pos + train_neg\n",
    "test_x = test_pos + test_neg\n",
    "\n",
    "train_y = np.append(np.ones((len(train_pos), 1)), np.zeros((len(train_neg), 1)), axis=0)\n",
    "test_y = np.append(np.ones((len(test_pos), 1)), np.zeros((len(test_neg), 1)), axis=0)"
   ]
  },
  {
   "cell_type": "code",
   "execution_count": 24,
   "id": "1e95337d-c562-4716-9b16-7aa17967f380",
   "metadata": {},
   "outputs": [
    {
     "name": "stdout",
     "output_type": "stream",
     "text": [
      "train_y shape (8000, 1)\n",
      "test_y shape (2000, 1)\n"
     ]
    }
   ],
   "source": [
    "print(\"train_y shape\", train_y.shape)\n",
    "print(\"test_y shape\", test_y.shape)"
   ]
  },
  {
   "cell_type": "code",
   "execution_count": 25,
   "id": "b401dc8d-aef2-444c-bfd4-d922985dcf9c",
   "metadata": {},
   "outputs": [],
   "source": [
    "# From above, func preprocesses tweets and gets positive and negative frequencies of each word\n",
    "freqs = build_freqs(train_x, train_y)"
   ]
  },
  {
   "cell_type": "code",
   "execution_count": 26,
   "id": "7603f189-2932-4e0d-95ea-a2f8594bd4b9",
   "metadata": {},
   "outputs": [
    {
     "name": "stdout",
     "output_type": "stream",
     "text": [
      "type(freqs) =  <class 'dict'>\n",
      "len(freqs) =  11426\n"
     ]
    }
   ],
   "source": [
    "print(\"type(freqs) = \", type(freqs))\n",
    "print(\"len(freqs) = \", len(freqs.keys()))"
   ]
  },
  {
   "cell_type": "markdown",
   "id": "6ec02b24-507e-4a47-930d-077c26102add",
   "metadata": {},
   "source": [
    "### Sigmoid Function"
   ]
  },
  {
   "cell_type": "code",
   "execution_count": 27,
   "id": "5b390d4b-9866-4571-bfdb-25b62504c708",
   "metadata": {},
   "outputs": [],
   "source": [
    "def sigmoid(z):\n",
    "    return 1 / (1 + np.exp(-z))\n",
    "assert sigmoid(0) == 0.5\n",
    "assert sigmoid(4.92) == 0.9927537604041685"
   ]
  },
  {
   "cell_type": "markdown",
   "id": "d2917545-5283-4fcb-98f9-2b66c8bacb7c",
   "metadata": {},
   "source": [
    "### Cost Function"
   ]
  },
  {
   "cell_type": "code",
   "execution_count": 28,
   "id": "43d8413a-1f14-4028-ba30-f379fee83411",
   "metadata": {},
   "outputs": [],
   "source": [
    "def cost_function(h, y):\n",
    "    return -np.mean(y * np.log(h) + (1 - y) * np.log(1 - h))"
   ]
  },
  {
   "cell_type": "markdown",
   "id": "5a3aac5f-c91f-4e9a-8e05-e339aae20ef4",
   "metadata": {},
   "source": [
    "### Gradient Descent"
   ]
  },
  {
   "cell_type": "code",
   "execution_count": 37,
   "id": "13b8b6f8-cfd2-4f8f-abff-1546373d5284",
   "metadata": {},
   "outputs": [],
   "source": [
    "def gradientDescent(x, y, theta, alpha, num_iters):\n",
    "    '''\n",
    "    Input:\n",
    "        x: matrix of features which is (m,n+1)\n",
    "        y: corresponding labels of the input matrix x, dimensions (m,1)\n",
    "        theta: weight vector of dimension (n+1,1)\n",
    "        alpha: learning rate\n",
    "        num_iters: number of iterations to train your model for\n",
    "    Output:\n",
    "        J: the final cost\n",
    "        theta: final weight vector\n",
    "    '''\n",
    "    # m = number of rows in matrix x\n",
    "    m = len(x)\n",
    "\n",
    "    # run gradient descent num_iters times\n",
    "    for i in range(0, num_iters):\n",
    "        # if i % 25 == 0:\n",
    "        #     print(i)\n",
    "        z = np.dot(x, theta)\n",
    "        h = sigmoid(z)\n",
    "        \n",
    "        # calculate the cost for logistic regression model\n",
    "        J = -(np.dot(y.T, np.log(h)) + np.dot(1-y.T, np.log(1 - h))) / m\n",
    "\n",
    "        # update the weights theta\n",
    "        theta = theta - alpha * np.dot(x.T, (h - y)) / m\n",
    "        \n",
    "    J = J.item()\n",
    "    return J, theta"
   ]
  },
  {
   "cell_type": "markdown",
   "id": "05dfd2dd-828e-4f52-b101-f2f89ad17818",
   "metadata": {},
   "source": [
    "### Extract features"
   ]
  },
  {
   "cell_type": "code",
   "execution_count": 38,
   "id": "afc9712c-1f94-47d7-b2ef-90d6a304169e",
   "metadata": {},
   "outputs": [],
   "source": [
    "def extract_features(tweet, freqs, process_tweet=process_tweet):\n",
    "    '''\n",
    "    Input:\n",
    "        tweet: string of a tweet\n",
    "        freqs: dictionary containing frequencies of each tuple (word, label)\n",
    "    Output:\n",
    "        features: vector of dimension (1, 3) for entire tweet\n",
    "    '''\n",
    "    word_tokens = process_tweet(tweet)\n",
    "\n",
    "    # initialize features vector with bias of 1\n",
    "    features = np.zeros(3)\n",
    "    features[0] = 1\n",
    "    \n",
    "    for word in word_tokens:\n",
    "        features[1] += freqs.get((word, 1), 0) # positive\n",
    "        features[2] += freqs.get((word, 0), 0) # negative\n",
    "\n",
    "    # Convert features from 1D to 2D array for batching\n",
    "    features = features[None, :]\n",
    "    return features\n"
   ]
  },
  {
   "cell_type": "markdown",
   "id": "f68eba5c-0946-4149-b929-855a27b4c8f5",
   "metadata": {},
   "source": [
    "### Train Model"
   ]
  },
  {
   "cell_type": "code",
   "execution_count": 52,
   "id": "902f8947-5cb4-4488-8d00-8eb5ea1d6329",
   "metadata": {},
   "outputs": [
    {
     "name": "stdout",
     "output_type": "stream",
     "text": [
      "Cost after training is 0.21782709.\n",
      "The resulting vector of weights is [6e-08, 0.00055908, -0.00057567]\n"
     ]
    }
   ],
   "source": [
    "# Collect features for each tweet and stack them into matrix X\n",
    "X = np.zeros((len(train_x), 3))\n",
    "for i in range(len(train_x)):\n",
    "    X[i, :] = extract_features(train_x[i], freqs, process_tweet)\n",
    "\n",
    "Y = train_y\n",
    "\n",
    "J, theta = gradientDescent(X, Y, np.zeros((3, 1)), 1e-9, 1600)\n",
    "\n",
    "print(f\"Cost after training is {J:.8f}.\")\n",
    "print(f\"The resulting vector of weights is {[round(t, 8) for t in np.squeeze(theta)]}\")"
   ]
  },
  {
   "cell_type": "markdown",
   "id": "21086171-6ad9-4c7b-966f-e766d5081aa7",
   "metadata": {},
   "source": [
    "# 5. Performance\n",
    "As can be seen, the model achieves an impressive 99.5% accuracy on the test set."
   ]
  },
  {
   "cell_type": "code",
   "execution_count": 53,
   "id": "ae2b52f5-97e1-445b-b1fc-7d661e130284",
   "metadata": {},
   "outputs": [],
   "source": [
    "def predict_tweet(tweet, freqs, theta):\n",
    "    '''\n",
    "    Input:\n",
    "        tweet: string\n",
    "        freqs: dictionary with frequencies of each tuple\n",
    "        theta: (3, 1) vector of weights\n",
    "    Output:\n",
    "        y_pred: Probability of tweet being positive\n",
    "    '''\n",
    "    x = extract_features(tweet, freqs)\n",
    "    y_pred = sigmoid(np.dot(x, theta))\n",
    "\n",
    "    return y_pred"
   ]
  },
  {
   "cell_type": "code",
   "execution_count": 54,
   "id": "2d393134-18cf-45cd-a0ef-614570681579",
   "metadata": {},
   "outputs": [
    {
     "data": {
      "text/plain": [
       "array([[0.83914429]])"
      ]
     },
     "execution_count": 54,
     "metadata": {},
     "output_type": "execute_result"
    }
   ],
   "source": [
    "# Feel free to check the sentiment of your own tweet below\n",
    "my_tweet = 'Fun times we had! :)'\n",
    "predict_tweet(my_tweet, freqs, theta)"
   ]
  },
  {
   "cell_type": "code",
   "execution_count": 55,
   "id": "acbe8df7-e751-4afe-8801-1248502b039b",
   "metadata": {},
   "outputs": [],
   "source": [
    "def test_accuracy(test_x, test_y, freqs, theta):\n",
    "    y_hat = []\n",
    "    for tweet in test_x:\n",
    "        y_pred = predict_tweet(tweet, freqs, theta)\n",
    "        if y_pred > 0.5: # positive\n",
    "            y_hat.append(1)\n",
    "        else:\n",
    "            y_hat.append(0)\n",
    "\n",
    "    y_hat = np.array(y_hat)\n",
    "    test_y = np.squeeze(test_y)\n",
    "    accuracy = np.mean(y_hat == test_y)\n",
    "    return accuracy"
   ]
  },
  {
   "cell_type": "code",
   "execution_count": 56,
   "id": "78a68a7d-f71e-47b7-b9e4-553746f13939",
   "metadata": {},
   "outputs": [
    {
     "name": "stdout",
     "output_type": "stream",
     "text": [
      "Test Accuracy = 0.995\n"
     ]
    }
   ],
   "source": [
    "print(\"Test Accuracy =\", test_accuracy(test_x, test_y, freqs, theta))"
   ]
  },
  {
   "cell_type": "markdown",
   "id": "c0436658-ead9-483b-86e4-d8580b986fec",
   "metadata": {},
   "source": [
    "# 6. Error Analysis"
   ]
  },
  {
   "cell_type": "code",
   "execution_count": 60,
   "id": "30e18216-0cb9-452d-a5e1-91dca106cb48",
   "metadata": {},
   "outputs": [
    {
     "name": "stdout",
     "output_type": "stream",
     "text": [
      "Original Tweet: @MarkBreech Not sure it would be good thing 4 my bottom daring 2 say 2 Miss B but Im gonna be so stubborn on mouth soaping ! #NotHavingit :p\n",
      "Processed Tweet: ['sure', 'would', 'good', 'thing', '4', 'bottom', 'dare', '2', 'say', '2', 'miss', 'b', 'im', 'gonna', 'stubborn', 'mouth', 'soap', 'nothavingit', ':p']\n",
      "prediction:  [[0.48952369]] actual:  [1.]\n",
      "\n",
      "Original Tweet: I'm playing Brain Dots : ) #BrainDots\n",
      "http://t.co/UGQzOx0huu\n",
      "Processed Tweet: [\"i'm\", 'play', 'brain', 'dot', 'braindot']\n",
      "prediction:  [[0.48390803]] actual:  [1.]\n",
      "\n",
      "Original Tweet: I'm playing Brain Dots : ) #BrainDots http://t.co/aOKldo3GMj http://t.co/xWCM9qyRG5\n",
      "Processed Tweet: [\"i'm\", 'play', 'brain', 'dot', 'braindot']\n",
      "prediction:  [[0.48390803]] actual:  [1.]\n",
      "\n",
      "Original Tweet: I'm playing Brain Dots : ) #BrainDots http://t.co/R2JBO8iNww http://t.co/ow5BBwdEMY\n",
      "Processed Tweet: [\"i'm\", 'play', 'brain', 'dot', 'braindot']\n",
      "prediction:  [[0.48390803]] actual:  [1.]\n",
      "\n",
      "Original Tweet: off to the park to get some sunlight : )\n",
      "Processed Tweet: ['park', 'get', 'sunlight']\n",
      "prediction:  [[0.49642472]] actual:  [1.]\n",
      "\n",
      "Original Tweet: @msarosh Uff Itna Miss karhy thy ap :p\n",
      "Processed Tweet: ['uff', 'itna', 'miss', 'karhi', 'thi', 'ap', ':p']\n",
      "prediction:  [[0.48208741]] actual:  [1.]\n",
      "\n",
      "Original Tweet: @phenomyoutube u probs had more fun with david than me : (\n",
      "Processed Tweet: ['u', 'prob', 'fun', 'david']\n",
      "prediction:  [[0.51045404]] actual:  [0.]\n",
      "\n",
      "Original Tweet: pats jay : (\n",
      "Processed Tweet: ['pat', 'jay']\n",
      "prediction:  [[0.50041933]] actual:  [0.]\n",
      "\n",
      "Original Tweet: my beloved grandmother : ( https://t.co/wt4oXq5xCf\n",
      "Processed Tweet: ['belov', 'grandmoth']\n",
      "prediction:  [[0.50000002]] actual:  [0.]\n",
      "\n",
      "Original Tweet: Sr. Financial Analyst - Expedia, Inc.: (#Bellevue, WA) http://t.co/ktknMhvwCI #Finance #ExpediaJobs #Job #Jobs #Hiring\n",
      "Processed Tweet: ['sr', 'financi', 'analyst', 'expedia', 'inc', 'bellevu', 'wa', 'financ', 'expediajob', 'job', 'job', 'hire']\n",
      "prediction:  [[0.5067612]] actual:  [0.]\n",
      "\n"
     ]
    }
   ],
   "source": [
    "for x,y in zip(test_x,test_y):\n",
    "    y_hat = predict_tweet(x, freqs, theta)\n",
    "\n",
    "    if np.abs(y - (y_hat > 0.5)) > 0:\n",
    "        print('Original Tweet:', x)\n",
    "        print('Processed Tweet:', process_tweet(x))\n",
    "        print(\"prediction: \", y_hat, \"actual: \", y)\n",
    "        print(\"\")"
   ]
  },
  {
   "cell_type": "code",
   "execution_count": null,
   "id": "2a1652fb-1568-4c80-8a6e-cc719e4ab55d",
   "metadata": {},
   "outputs": [],
   "source": []
  }
 ],
 "metadata": {
  "kernelspec": {
   "display_name": "Python 3 (ipykernel)",
   "language": "python",
   "name": "python3"
  },
  "language_info": {
   "codemirror_mode": {
    "name": "ipython",
    "version": 3
   },
   "file_extension": ".py",
   "mimetype": "text/x-python",
   "name": "python",
   "nbconvert_exporter": "python",
   "pygments_lexer": "ipython3",
   "version": "3.12.4"
  }
 },
 "nbformat": 4,
 "nbformat_minor": 5
}
